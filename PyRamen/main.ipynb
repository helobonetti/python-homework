{
 "cells": [
  {
   "cell_type": "code",
   "execution_count": 1,
   "id": "4dbb8020-aa82-444e-a42a-bd2eaf9b0107",
   "metadata": {},
   "outputs": [
    {
     "name": "stdout",
     "output_type": "stream",
     "text": [
      "Number of menu items: 32\n"
     ]
    }
   ],
   "source": [
    "import csv\n",
    "\n",
    "# Step 1: Read in menu_data.csv\n",
    "menu_data = []  \n",
    "menu_file_path = \"/Users/helobonetti/Desktop/BERKELEY/python-homework/PyRamen/menu_data.csv\"\n",
    "with open(menu_file_path, newline=\"\") as menu_file:\n",
    "    menu_reader = csv.reader(menu_file)\n",
    "    next(menu_reader)\n",
    "    for row in menu_reader:\n",
    "        menu_data.append(row)\n",
    "\n",
    "print(f\"Number of menu items: {len(menu_data)}\")\n",
    "\n",
    "# Step 2: Read in sales_data.csv\n",
    "sales_data = []  \n",
    "sales_file_path = \"/Users/helobonetti/Desktop/BERKELEY/python-homework/PyRamen/sales_data.csv\"\n",
    "with open(sales_file_path, newline=\"\") as sales_file:\n",
    "    sales_reader = csv.reader(sales_file)\n",
    "    next(sales_reader)\n",
    "    for row in sales_reader:\n",
    "        sales_data.append(row)"
   ]
  },
  {
   "cell_type": "code",
   "execution_count": 13,
   "id": "e02c9324-baa1-4948-9fb8-5a772e09b4ab",
   "metadata": {},
   "outputs": [
    {
     "name": "stdout",
     "output_type": "stream",
     "text": [
      "edamame\n",
      "house salad\n",
      "cucumber sunomono salad\n",
      "hiyashi wakame seaweed salad\n",
      "agedashi tofu\n",
      "hiyayakko tofu\n",
      "pork floss bao\n",
      "kakuni bao\n",
      "edamame fried gyoza (vegan)\n",
      "fried gyoza\n",
      "takoyaki\n",
      "rock shrimp tempura\n",
      "soft-shell crab tempura\n",
      "ebi katsu shrimp bao\n",
      "nagomi shoyu\n",
      "shio ramen\n",
      "spicy miso ramen\n",
      "vegetarian spicy miso\n",
      "miso crab ramen\n",
      "soft-shell miso crab ramen\n",
      "tori paitan ramen\n",
      "tonkotsu ramen\n",
      "burnt garlic tonkotsu ramen\n",
      "vegetarian curry + king trumpet mushroom ramen\n",
      "truffle butter ramen\n",
      "green tea\n",
      "coke\n",
      "black sesame ice cream\n",
      "matcha ice cream\n",
      "mango mochi ice cream\n",
      "strawberry mochi ice cream\n",
      "black sesame creme brulee\n"
     ]
    }
   ],
   "source": [
    "for row in menu_data:\n",
    "    print(row[0])"
   ]
  },
  {
   "cell_type": "code",
   "execution_count": 8,
   "id": "4a9eff15-de34-4cbb-a42b-a13319d00bf9",
   "metadata": {},
   "outputs": [
    {
     "name": "stdout",
     "output_type": "stream",
     "text": [
      "Number of sales records: 74124\n"
     ]
    }
   ],
   "source": [
    "print(f\"Number of sales records: {len(sales_data)}\")\n",
    "    \n",
    "   # Step 3: Initialize an empty report dictionary\n",
    "report = {}\n",
    "\n",
    "# Create a dictionary to map menu items to their corresponding price and cost\n",
    "menu_dict = {menu_row[0]: {\"price\": float(menu_row[3]), \"cost\": float(menu_row[4])} for menu_row in menu_data}"
   ]
  },
  {
   "cell_type": "code",
   "execution_count": 9,
   "id": "c71f3950-c724-4975-beb4-07afb57aab9a",
   "metadata": {},
   "outputs": [
    {
     "data": {
      "text/plain": [
       "{'edamame': {'price': 4.0, 'cost': 1.0},\n",
       " 'house salad': {'price': 4.0, 'cost': 2.0},\n",
       " 'cucumber sunomono salad': {'price': 5.0, 'cost': 2.0},\n",
       " 'hiyashi wakame seaweed salad': {'price': 5.0, 'cost': 2.0},\n",
       " 'agedashi tofu': {'price': 5.0, 'cost': 2.0},\n",
       " 'hiyayakko tofu': {'price': 5.0, 'cost': 2.0},\n",
       " 'pork floss bao': {'price': 4.0, 'cost': 2.0},\n",
       " 'kakuni bao': {'price': 6.0, 'cost': 3.0},\n",
       " 'edamame fried gyoza (vegan)': {'price': 6.0, 'cost': 3.0},\n",
       " 'fried gyoza': {'price': 6.0, 'cost': 6.0},\n",
       " 'takoyaki': {'price': 6.0, 'cost': 3.0},\n",
       " 'rock shrimp tempura': {'price': 6.0, 'cost': 3.0},\n",
       " 'soft-shell crab tempura': {'price': 6.0, 'cost': 3.0},\n",
       " 'ebi katsu shrimp bao': {'price': 6.0, 'cost': 3.0},\n",
       " 'nagomi shoyu': {'price': 11.0, 'cost': 5.0},\n",
       " 'shio ramen': {'price': 11.0, 'cost': 5.0},\n",
       " 'spicy miso ramen': {'price': 12.0, 'cost': 5.0},\n",
       " 'vegetarian spicy miso': {'price': 12.0, 'cost': 5.0},\n",
       " 'miso crab ramen': {'price': 12.0, 'cost': 6.0},\n",
       " 'soft-shell miso crab ramen': {'price': 14.0, 'cost': 7.0},\n",
       " 'tori paitan ramen': {'price': 13.0, 'cost': 6.0},\n",
       " 'tonkotsu ramen': {'price': 13.0, 'cost': 6.0},\n",
       " 'burnt garlic tonkotsu ramen': {'price': 14.0, 'cost': 6.0},\n",
       " 'vegetarian curry + king trumpet mushroom ramen': {'price': 13.0,\n",
       "  'cost': 7.0},\n",
       " 'truffle butter ramen': {'price': 14.0, 'cost': 7.0},\n",
       " 'green tea': {'price': 2.5, 'cost': 1.0},\n",
       " 'coke': {'price': 2.0, 'cost': 1.0},\n",
       " 'black sesame ice cream': {'price': 5.0, 'cost': 2.0},\n",
       " 'matcha ice cream': {'price': 5.0, 'cost': 2.0},\n",
       " 'mango mochi ice cream': {'price': 5.0, 'cost': 2.0},\n",
       " 'strawberry mochi ice cream': {'price': 5.0, 'cost': 2.0},\n",
       " 'black sesame creme brulee': {'price': 6.0, 'cost': 3.0}}"
      ]
     },
     "execution_count": 9,
     "metadata": {},
     "output_type": "execute_result"
    }
   ],
   "source": [
    "menu_dict"
   ]
  },
  {
   "cell_type": "code",
   "execution_count": 20,
   "id": "004b1ede-e7a4-4738-a7a9-a87ada2d87e3",
   "metadata": {},
   "outputs": [
    {
     "ename": "ValueError",
     "evalue": "invalid literal for int() with base 10: '01-01-2017'",
     "output_type": "error",
     "traceback": [
      "\u001b[0;31m---------------------------------------------------------------------------\u001b[0m",
      "\u001b[0;31mValueError\u001b[0m                                Traceback (most recent call last)",
      "Cell \u001b[0;32mIn[20], line 2\u001b[0m\n\u001b[1;32m      1\u001b[0m \u001b[38;5;28;01mfor\u001b[39;00m row \u001b[38;5;129;01min\u001b[39;00m sales_data[:\u001b[38;5;241m50\u001b[39m]:\n\u001b[0;32m----> 2\u001b[0m     \u001b[38;5;28mprint\u001b[39m(\u001b[38;5;28mint\u001b[39m(row[\u001b[38;5;241m1\u001b[39m]))\n",
      "\u001b[0;31mValueError\u001b[0m: invalid literal for int() with base 10: '01-01-2017'"
     ]
    }
   ],
   "source": [
    "for row in sales_data[:50]:\n",
    "    print(int(row[1]))\n",
    "    # Set variables for Quantity and Menu_Item\n",
    "    # try:\n",
    "    #     quantity = int(row[1])\n",
    "    # except ValueError:\n",
    "    #     print(f\"Invalid value for Quantity: {row[1]}. Skipping this field.\")\n",
    "    #     quantity = 0  # Set a default value or choose another strategy\n",
    "\n",
    "    # sales_item = row[4]"
   ]
  },
  {
   "cell_type": "code",
   "execution_count": null,
   "id": "4215f666-ac64-4664-a3bb-675474a5f757",
   "metadata": {},
   "outputs": [],
   "source": [
    "# Loop through every row in the sales list object\n",
    "for row in sales_data:\n",
    "    # Set variables for Quantity and Menu_Item\n",
    "    try:\n",
    "        quantity = int(row[1])\n",
    "    except ValueError:\n",
    "        print(f\"Invalid value for Quantity: {row[1]}. Skipping this field.\")\n",
    "        quantity = 0  # Set a default value or choose another strategy\n",
    "\n",
    "    sales_item = row[4]\n",
    "\n",
    "    # Check if sales_item is already in the report dictionary\n",
    "    if sales_item not in report:\n",
    "        # Initialize key-value pairs for the sales_item\n",
    "        report[sales_item] = {\n",
    "            \"01-count\": 0,\n",
    "            \"02-revenue\": 0,\n",
    "            \"03-cogs\": 0,\n",
    "            \"04-profit\": 0,\n",
    "        }\n",
    "\n",
    "    # Check if sales_item is in the menu_dict\n",
    "    if sales_item in menu_dict:\n",
    "        # Access price and cost directly from the menu_dict\n",
    "        price = menu_dict[sales_item][\"price\"]\n",
    "        cost = menu_dict[sales_item][\"cost\"]\n",
    "\n",
    "        # Calculate profit for each item\n",
    "        profit = price - cost\n",
    "\n",
    "        # Cumulatively add values to the corresponding metrics in the report\n",
    "        report[sales_item][\"01-count\"] += quantity\n",
    "        report[sales_item][\"02-revenue\"] += price * quantity\n",
    "        report[sales_item][\"03-cogs\"] += cost * quantity\n",
    "        report[sales_item][\"04-profit\"] += profit * quantity\n",
    "    else:\n",
    "        print(f\"{sales_item} does not exist in the menu data! NO MATCH!\")\n",
    "\n",
    "# Write out the contents of the report dictionary to a text file\n",
    "output_file_path = \"/Users/helobonetti/Desktop/BERKELEY/python-homework/PyRamen/output_report.txt\"\n",
    "with open(output_file_path, \"w\") as output_file:\n",
    "    for ramen_type, metrics in report.items():\n",
    "        output_line = f\"{ramen_type} {metrics}\\n\"\n",
    "        output_file.write(output_line)\n",
    "        print(output_line.strip())"
   ]
  }
 ],
 "metadata": {
  "kernelspec": {
   "display_name": "Python 3 (ipykernel)",
   "language": "python",
   "name": "python3"
  },
  "language_info": {
   "codemirror_mode": {
    "name": "ipython",
    "version": 3
   },
   "file_extension": ".py",
   "mimetype": "text/x-python",
   "name": "python",
   "nbconvert_exporter": "python",
   "pygments_lexer": "ipython3",
   "version": "3.11.5"
  }
 },
 "nbformat": 4,
 "nbformat_minor": 5
}
