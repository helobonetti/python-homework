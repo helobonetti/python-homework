{
 "cells": [
  {
   "cell_type": "code",
   "execution_count": 49,
   "id": "11301289-cd36-4ebc-b4ea-6e18c5da19fc",
   "metadata": {},
   "outputs": [],
   "source": [
    "# This script demonstrates how to perform basic analysis of trading profits/losses\n",
    "# over the course of a month (86 months)."
   ]
  },
  {
   "cell_type": "code",
   "execution_count": 41,
   "id": "e4d52f80-c0ef-4031-8039-87b3fc8b0b6e",
   "metadata": {},
   "outputs": [],
   "source": [
    "# Initialize the metric variables\n",
    "total_months = 0\n",
    "total = 0\n",
    "average_change = 0\n",
    "greatest_increase_month = \"\"\n",
    "greatest_increase_amount = 0\n",
    "greatest_decrease_month = \"\"\n",
    "greatest_decrease_amount = 0"
   ]
  },
  {
   "cell_type": "code",
   "execution_count": 42,
   "id": "e69910b5-02fa-459e-91b5-c73ec8e846e7",
   "metadata": {},
   "outputs": [],
   "source": [
    "import csv "
   ]
  },
  {
   "cell_type": "code",
   "execution_count": 43,
   "id": "3596448e-76f2-44d6-b886-76d455c1ccb3",
   "metadata": {},
   "outputs": [],
   "source": [
    "# Initialize lists to hold profitable and unprofitable day profits/losses\n",
    "profitable_months = []\n",
    "unprofitable_months = []"
   ]
  },
  {
   "cell_type": "code",
   "execution_count": 44,
   "id": "58fec843-c3c5-47b8-a23d-e06b15f98fe2",
   "metadata": {},
   "outputs": [],
   "source": [
    "# Specify the path to your CSV file\n",
    "csv_file_path = \"/Users/helobonetti/Desktop/BERKELEY/python-homework/budget_data.csv\""
   ]
  },
  {
   "cell_type": "code",
   "execution_count": 45,
   "id": "e1952b87-3baa-481a-9db4-4cd5acc45916",
   "metadata": {},
   "outputs": [],
   "source": [
    "# Read data from the CSV file\n",
    "with open(csv_file_path, 'r') as csv_file:\n",
    "    csv_reader = csv.reader(csv_file)\n",
    "    # Skip the header row if it exists\n",
    "    next(csv_reader, None)\n",
    "    \n",
    "    # Extract profits/losses into a list\n",
    "    trading_data = [(row[0], int(row[1])) for row in csv_reader]"
   ]
  },
  {
   "cell_type": "code",
   "execution_count": 46,
   "id": "f016e5df-f46e-4c59-8fa5-4e8386cd1de8",
   "metadata": {},
   "outputs": [],
   "source": [
    "# Iterate over each element of the list\n",
    "for i, (month, month_pnl) in enumerate(trading_data):\n",
    "    # Cumulatively sum up the total profits/losses and count of trading months\n",
    "    total += month_pnl\n",
    "    total_months += 1\n",
    "\n",
    "    # Calculate the change in profits/losses\n",
    "    if i > 0:\n",
    "        change = month_pnl - trading_data[i-1][1]\n",
    "        average_change += change\n",
    "\n",
    "    # Logic to determine minimum and maximum values\n",
    "        if change < greatest_decrease_amount:\n",
    "            greatest_decrease_month = month\n",
    "            greatest_decrease_amount = change\n",
    "        elif change > greatest_increase_amount:\n",
    "            greatest_increase_month = month\n",
    "            greatest_increase_amount = change"
   ]
  },
  {
   "cell_type": "code",
   "execution_count": 47,
   "id": "74ade743-4c70-4ad2-bada-7354d3178ca5",
   "metadata": {},
   "outputs": [],
   "source": [
    "# Calculate the average change\n",
    "average_change /= (total_months - 1) if total_months > 1 else 1  # Avoid division by zero\n"
   ]
  },
  {
   "cell_type": "code",
   "execution_count": 48,
   "id": "2a1b72fe-8234-4e8c-bfd0-00a18b8a6db3",
   "metadata": {},
   "outputs": [
    {
     "name": "stdout",
     "output_type": "stream",
     "text": [
      "Financial Analysis\n",
      "----------------------------\n",
      "Total Months: 86\n",
      "Total: $38382578\n",
      "Average Change: $-2315.12\n",
      "Greatest Increase in Profits: Feb-2012 ($1926159)\n",
      "Greatest Decrease in Profits: Sep-2013 ($-2196167)\n"
     ]
    }
   ],
   "source": [
    "# Print or use the calculated metrics as needed\n",
    "print(\"Financial Analysis\")\n",
    "print(\"----------------------------\")\n",
    "print(f\"Total Months: {total_months}\")\n",
    "print(f\"Total: ${total}\")\n",
    "print(f\"Average Change: ${average_change:.2f}\")\n",
    "print(f\"Greatest Increase in Profits: {greatest_increase_month} (${greatest_increase_amount})\")\n",
    "print(f\"Greatest Decrease in Profits: {greatest_decrease_month} (${greatest_decrease_amount})\")\n"
   ]
  },
  {
   "cell_type": "code",
   "execution_count": null,
   "id": "72cbea3d-7794-4670-abca-ab6cd3d4eae1",
   "metadata": {},
   "outputs": [],
   "source": []
  }
 ],
 "metadata": {
  "kernelspec": {
   "display_name": "Python 3 (ipykernel)",
   "language": "python",
   "name": "python3"
  },
  "language_info": {
   "codemirror_mode": {
    "name": "ipython",
    "version": 3
   },
   "file_extension": ".py",
   "mimetype": "text/x-python",
   "name": "python",
   "nbconvert_exporter": "python",
   "pygments_lexer": "ipython3",
   "version": "3.11.5"
  }
 },
 "nbformat": 4,
 "nbformat_minor": 5
}
